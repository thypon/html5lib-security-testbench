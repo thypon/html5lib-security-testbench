{
 "cells": [
  {
   "cell_type": "markdown",
   "metadata": {},
   "source": [
    "# Html5lib tests for XML injection issue\n",
    "\n",
    "| kind                                   | sax      | etree        | minidom   | pulldom  | xmlrpc   | lxml           | genshi    |\n",
    "| -------------------------------------- | -------- | ------------ | --------- | -------- | -------- | -------------- | --------- |\n",
    "| billion laughs                         | **True** | **True**     | **True**  | **True** | **True** | False (1)      | False (5) |\n",
    "| quadratic blowup                       | **True** | **True**     | **True**  | **True** | **True** | **True**       | False (5) |\n",
    "| external entity expansion (remote)     | **True** | False (3)    | False (4) | **True** | false    | False (1)      | False (5) |\n",
    "| external entity expansion (local file) | **True** | False (3)    | False (4) | **True** | false    | **True**       | False (5) |\n",
    "| DTD retrieval                          | **True** | False        | False     | **True** | false    | False (1)      | False     |\n",
    "| gzip bomb                              | False    | False        | False     | False    | **True** | **partly** (2) | False     |\n",
    "| xpath support (7)                      | False    | False        | False     | False    | False    | **True**       | False     |\n",
    "| xsl(t) support (7)                     | False    | False        | False     | False    | False    | **True**       | False     |\n",
    "| xinclude support (7)                   | False    | **True** (6) | False     | False    | False    | **True** (6)   | **True**  |\n",
    "| C library                              | expat    | expat        | expat     | expat    | expat    | libxml2        | expat     |"
   ]
  },
  {
   "cell_type": "code",
   "execution_count": 4,
   "metadata": {},
   "outputs": [
    {
     "ename": "FileNotFoundError",
     "evalue": "[Errno 2] No such file or directory: 'mydocument.html'",
     "output_type": "error",
     "traceback": [
      "\u001b[0;31m---------------------------------------------------------------------------\u001b[0m",
      "\u001b[0;31mFileNotFoundError\u001b[0m                         Traceback (most recent call last)",
      "Cell \u001b[0;32mIn [4], line 6\u001b[0m\n\u001b[1;32m      2\u001b[0m \u001b[38;5;28;01mimport\u001b[39;00m \u001b[38;5;21;01mhtml5lib\u001b[39;00m\n\u001b[1;32m      4\u001b[0m dname \u001b[38;5;241m=\u001b[39m \u001b[38;5;124m\"\u001b[39m\u001b[38;5;124mmydocument.html\u001b[39m\u001b[38;5;124m\"\u001b[39m\n\u001b[0;32m----> 6\u001b[0m \u001b[38;5;28;01mwith\u001b[39;00m \u001b[38;5;28;43mopen\u001b[39;49m\u001b[43m(\u001b[49m\u001b[43mdname\u001b[49m\u001b[43m,\u001b[49m\u001b[43m \u001b[49m\u001b[38;5;124;43m\"\u001b[39;49m\u001b[38;5;124;43mrb\u001b[39;49m\u001b[38;5;124;43m\"\u001b[39;49m\u001b[43m)\u001b[49m \u001b[38;5;28;01mas\u001b[39;00m f:\n\u001b[1;32m      7\u001b[0m     document \u001b[38;5;241m=\u001b[39m html5lib\u001b[38;5;241m.\u001b[39mparse(f)\n\u001b[1;32m      9\u001b[0m \u001b[38;5;28;01mwith\u001b[39;00m \u001b[38;5;28mopen\u001b[39m(dname, \u001b[38;5;124m\"\u001b[39m\u001b[38;5;124mrb\u001b[39m\u001b[38;5;124m\"\u001b[39m) \u001b[38;5;28;01mas\u001b[39;00m f:\n",
      "\u001b[0;31mFileNotFoundError\u001b[0m: [Errno 2] No such file or directory: 'mydocument.html'"
     ]
    }
   ],
   "source": [
    "# html5lib load example\n",
    "import html5lib\n",
    "\n",
    "dname = \"mydocument.html\"\n",
    "\n",
    "with open(dname, \"rb\") as f:\n",
    "    document = html5lib.parse(f)\n",
    "    pass\n",
    "\n",
    "with open(dname, \"rb\") as f:\n",
    "    lxml_etree_document = html5lib.parse(f, treebuilder=\"lxml\")\n",
    "    pass\n",
    "\n",
    "with open(dname, \"rb\") as f:\n",
    "    parser = html5lib.HTMLParser(strict=True)\n",
    "    document = parser.parse(f)\n",
    "    pass"
   ]
  },
  {
   "cell_type": "code",
   "execution_count": 45,
   "metadata": {},
   "outputs": [
    {
     "name": "stdout",
     "output_type": "stream",
     "text": [
      "Original:\n",
      "b'<!DOCTYPE xmlbomb [\\n<!ENTITY a \"1234567890\">\\n]>\\n<root>text<bomb>&a;</bomb><tag/></root>\\n'\n",
      "88\n",
      "Basic Test: \n",
      "<html:html xmlns:html=\"http://www.w3.org/1999/xhtml\">\n",
      "  <html:head />\n",
      "<html:body>]&gt;\n",
      "<html:root>text<html:bomb>&amp;a;</html:bomb>\n",
      "    <html:tag />\n",
      "    </html:root>\n",
      "  </html:body>\n",
      "</html:html>\n",
      "LXML Test: \n",
      "b'<?xml version=\\'1.0\\' encoding=\\'ASCII\\'?>\\n<html:html xmlns:html=\"http://www.w3.org/1999/xhtml\">\\n  <html:head/>\\n  <html:body>]&gt;\\n<html:root>text<html:bomb>&amp;a;</html:bomb><html:tag/></html:root>\\n</html:body>\\n</html:html>\\n'\n",
      "222\n"
     ]
    }
   ],
   "source": [
    "# html5lib load example\n",
    "import html5lib\n",
    "\n",
    "# Replace here the file to test\n",
    "dname = \"xmltestdata/xmlbomb2.xml\"\n",
    "\n",
    "from xml.etree import ElementTree\n",
    "\n",
    "def indent(elem, level=0):\n",
    "    i = \"\\n\" + level*\"  \"\n",
    "    j = \"\\n\" + (level-1)*\"  \"\n",
    "    if len(elem):\n",
    "        if not elem.text or not elem.text.strip():\n",
    "            elem.text = i + \"  \"\n",
    "        if not elem.tail or not elem.tail.strip():\n",
    "            elem.tail = i\n",
    "        for subelem in elem:\n",
    "            indent(subelem, level+1)\n",
    "        if not elem.tail or not elem.tail.strip():\n",
    "            elem.tail = j\n",
    "    else:\n",
    "        if level and (not elem.tail or not elem.tail.strip()):\n",
    "            elem.tail = j\n",
    "    return elem\n",
    "\n",
    "print(\"Original:\")\n",
    "\n",
    "with open(dname, \"rb\") as f:\n",
    "    body = f.read()\n",
    "    print(body)\n",
    "    print(len(body))\n",
    "\n",
    "print(\"Basic Test: \")\n",
    "\n",
    "with open(dname, \"rb\") as f:\n",
    "    document = html5lib.parse(f)\n",
    "    indent(document)\n",
    "    ElementTree.dump(document)\n",
    "    pass\n",
    "\n",
    "print(\"LXML Test: \")\n",
    "\n",
    "from lxml import etree\n",
    "\n",
    "with open(dname, \"rb\") as f:\n",
    "    lxml_etree_document = html5lib.parse(f, treebuilder=\"lxml\")\n",
    "    print(etree.tostring(lxml_etree_document, pretty_print=True, xml_declaration=True))\n",
    "    print(len(etree.tostring(lxml_etree_document, pretty_print=True, xml_declaration=True)))\n",
    "    pass"
   ]
  },
  {
   "cell_type": "code",
   "execution_count": 66,
   "metadata": {},
   "outputs": [
    {
     "name": "stdout",
     "output_type": "stream",
     "text": [
      "Original:\n",
      "b'<!DOCTYPE xmlbomb [\\n<!ENTITY a \"1234567890\">\\n]>\\n<root>text<bomb>&a;</bomb><tag/></root>\\n'\n",
      "88\n",
      "Basic Test: \n",
      "]&gt;\n",
      "<root>text<bomb>&amp;a;</bomb><tag></tag></root>\n",
      "\n",
      "LXML Test: \n",
      "<!DOCTYPE html>]&gt;\n",
      "<root>text<bomb>&amp;a;</bomb><tag></tag></root>\n",
      "\n"
     ]
    }
   ],
   "source": [
    "# Test the serialize method too\n",
    "# html5lib load example\n",
    "import html5lib\n",
    "\n",
    "# Replace here the file to test\n",
    "dname = \"xmltestdata/xmlbomb2.xml\"\n",
    "\n",
    "from xml.etree import ElementTree\n",
    "\n",
    "print(\"Original:\")\n",
    "\n",
    "with open(dname, \"rb\") as f:\n",
    "    body = f.read()\n",
    "    print(body)\n",
    "    print(len(body))\n",
    "\n",
    "print(\"Basic Test: \")\n",
    "\n",
    "with open(dname, \"r\") as f:\n",
    "    document = html5lib.parse(f)\n",
    "    print(html5lib.serialize(document, resolve_entities=True))\n",
    "    pass\n",
    "\n",
    "print(\"LXML Test: \")\n",
    "\n",
    "from lxml import etree\n",
    "\n",
    "with open(dname, \"r\") as f:\n",
    "    lxml_etree_document = html5lib.parse(f, treebuilder=\"lxml\")\n",
    "    print(html5lib.serialize(lxml_etree_document, tree=\"lxml\", resolve_entities=True))\n",
    "    pass"
   ]
  },
  {
   "cell_type": "code",
   "execution_count": 17,
   "metadata": {},
   "outputs": [
    {
     "name": "stdout",
     "output_type": "stream",
     "text": [
      "Original:\n",
      "<?xml version=\"1.0\" encoding=\"utf-8\"?>\n",
      "<!DOCTYPE html PUBLIC \"-//W3C//DTD XHTML 1.0 Transitional//EN\"\n",
      "  \"http://pompel.me:9000/TR/xhtml1/DTD/xhtml1-transitional.dtd\">\n",
      "<html>\n",
      "    <head/>\n",
      "    <body>text</body>\n",
      "</html>\n",
      "215\n",
      "\n",
      "html.parser Test: \n",
      "<?xml version=\"1.0\" encoding=\"utf-8\"?>\n",
      "<!DOCTYPE html PUBLIC \"-//W3C//DTD XHTML 1.0 Transitional//EN\"\n",
      "  \"http://pompel.me:9000/TR/xhtml1/DTD/xhtml1-transitional.dtd\">\n",
      "\n",
      "<html>\n",
      "<head></head>\n",
      "<body>text</body>\n",
      "</html>\n",
      "LXML Test: \n",
      "<?xml version=\"1.0\" encoding=\"utf-8\"?><!DOCTYPE html PUBLIC \"-//W3C//DTD XHTML 1.0 Transitional//EN\" \"http://pompel.me:9000/TR/xhtml1/DTD/xhtml1-transitional.dtd\">\n",
      "<html>\n",
      "<head></head>\n",
      "<body>text</body>\n",
      "</html>\n"
     ]
    }
   ],
   "source": [
    "# Test the serialize method too\n",
    "# html5lib load example\n",
    "from bs4 import BeautifulSoup\n",
    "\n",
    "# Replace here the file to test\n",
    "dname = \"xmltestdata/xhtml_bomb.xml\"\n",
    "\n",
    "from xml.etree import ElementTree\n",
    "\n",
    "print(\"Original:\")\n",
    "\n",
    "with open(dname, \"r\") as f:\n",
    "    body = f.read()\n",
    "    print(body)\n",
    "    print(len(body))\n",
    "\n",
    "print(\"\\nhtml.parser Test: \")\n",
    "\n",
    "with open(dname, \"r\") as f:\n",
    "    document = BeautifulSoup(f, 'html.parser')\n",
    "    print(document)\n",
    "    pass\n",
    "\n",
    "print(\"LXML Test: \")\n",
    "\n",
    "with open(dname, \"r\") as f:\n",
    "    document = BeautifulSoup(f, 'lxml')\n",
    "    print(document)\n",
    "    pass"
   ]
  }
 ],
 "metadata": {
  "kernelspec": {
   "display_name": "Python 3 (ipykernel)",
   "language": "python",
   "name": "python3"
  },
  "language_info": {
   "codemirror_mode": {
    "name": "ipython",
    "version": 3
   },
   "file_extension": ".py",
   "mimetype": "text/x-python",
   "name": "python",
   "nbconvert_exporter": "python",
   "pygments_lexer": "ipython3",
   "version": "3.10.6"
  },
  "vscode": {
   "interpreter": {
    "hash": "628df3db9e591e62fd2c03df4b7d5766589e813420db59445d5b09b2678e17f5"
   }
  }
 },
 "nbformat": 4,
 "nbformat_minor": 2
}
